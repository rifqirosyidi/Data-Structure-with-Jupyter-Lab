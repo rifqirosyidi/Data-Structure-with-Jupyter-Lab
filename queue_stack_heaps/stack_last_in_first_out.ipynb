{
 "cells": [
  {
   "cell_type": "markdown",
   "metadata": {},
   "source": [
    "# STACK"
   ]
  },
  {
   "cell_type": "markdown",
   "metadata": {},
   "source": [
    "Also Known As **LIFO** (**L**ast **I**n **F**irst **O**ut)"
   ]
  },
  {
   "cell_type": "markdown",
   "metadata": {},
   "source": [
    "**Last In - First Out**\n",
    "Use python .append() to *push* item onto the stack\n",
    "Use python .pop() to *remove* item from the stack"
   ]
  },
  {
   "cell_type": "code",
   "execution_count": 5,
   "metadata": {},
   "outputs": [
    {
     "name": "stdout",
     "output_type": "stream",
     "text": [
      "[7, 9, 2]\n",
      "Deleted item :  2\n",
      "Deleted item :  9\n",
      "[7]\n",
      "[7, 1, 'A', 'Z', 4]\n"
     ]
    }
   ],
   "source": [
    "my_stack = list()\n",
    "\n",
    "# Push item\n",
    "my_stack.append(7)\n",
    "my_stack.append(9)\n",
    "my_stack.append(2)\n",
    "print(my_stack)\n",
    "\n",
    "# Pop some last item\n",
    "print(\"Deleted item : \", my_stack.pop())\n",
    "print(\"Deleted item : \", my_stack.pop())\n",
    "print(my_stack)\n",
    "\n",
    "# Push some more\n",
    "my_stack.append(1)\n",
    "my_stack.append('A')\n",
    "my_stack.append('Z')\n",
    "my_stack.append(4)\n",
    "print(my_stack)"
   ]
  },
  {
   "cell_type": "code",
   "execution_count": null,
   "metadata": {},
   "outputs": [],
   "source": []
  }
 ],
 "metadata": {
  "kernelspec": {
   "display_name": "Python 3",
   "language": "python",
   "name": "python3"
  },
  "language_info": {
   "codemirror_mode": {
    "name": "ipython",
    "version": 3
   },
   "file_extension": ".py",
   "mimetype": "text/x-python",
   "name": "python",
   "nbconvert_exporter": "python",
   "pygments_lexer": "ipython3",
   "version": "3.7.3"
  }
 },
 "nbformat": 4,
 "nbformat_minor": 4
}
