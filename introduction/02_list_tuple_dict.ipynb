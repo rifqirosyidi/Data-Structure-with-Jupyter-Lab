{
 "cells": [
  {
   "cell_type": "markdown",
   "metadata": {},
   "source": [
    "\n",
    "# LIST #\n"
   ]
  },
  {
   "cell_type": "markdown",
   "metadata": {},
   "source": [
    "**CONSTRUCTOR** creating new list"
   ]
  },
  {
   "cell_type": "code",
   "execution_count": 1,
   "metadata": {},
   "outputs": [],
   "source": [
    "# Different Ways to Create List\n",
    "x = list()\n",
    "x = ['text', 21, 'another', '17.8']\n",
    "t = ('tup','ple')\n",
    "z = list(t)"
   ]
  },
  {
   "cell_type": "markdown",
   "metadata": {},
   "source": [
    "**LIST COMPREHENSION**"
   ]
  },
  {
   "cell_type": "code",
   "execution_count": 3,
   "metadata": {},
   "outputs": [
    {
     "name": "stdout",
     "output_type": "stream",
     "text": [
      "[0, 1, 2, 3, 4, 5, 6, 7, 8, 9, 10, 11, 12, 13, 14, 15, 16, 17, 18, 19]\n",
      "[25, 36, 49, 64, 81, 100, 121]\n"
     ]
    }
   ],
   "source": [
    "a = [n for n in range(20)]\n",
    "b = [m**2 for m in range(12) if m>4]\n",
    "print(a)\n",
    "print(b)"
   ]
  },
  {
   "cell_type": "markdown",
   "metadata": {},
   "source": [
    "**DELETE LIST**"
   ]
  },
  {
   "cell_type": "code",
   "execution_count": 4,
   "metadata": {},
   "outputs": [
    {
     "name": "stdout",
     "output_type": "stream",
     "text": [
      "[5, 7]\n"
     ]
    }
   ],
   "source": [
    "x= [5, 6, 7]\n",
    "del[x[1]]\n",
    "print(x)\n",
    "del x  # List Deleted"
   ]
  },
  {
   "cell_type": "markdown",
   "metadata": {},
   "source": [
    "**APPEND & EXTEND & INSERT**"
   ]
  },
  {
   "cell_type": "code",
   "execution_count": 7,
   "metadata": {},
   "outputs": [
    {
     "name": "stdout",
     "output_type": "stream",
     "text": [
      "['a', 'b', 'c', 'd']\n",
      "[[1, 2], 'j', 'k', 'l', 'm']\n",
      "['f', 'g', 'h', 'i', 'j']\n"
     ]
    }
   ],
   "source": [
    "# Append\n",
    "a = ['a', 'b', 'c']\n",
    "b = 'd'\n",
    "a.append(b)\n",
    "print(a)\n",
    "\n",
    "# Insert\n",
    "j = ['k', 'l', 'm']\n",
    "j.insert(0, 'j')\n",
    "j.insert(0, [1, 2])\n",
    "print(j)\n",
    "\n",
    "# Extend\n",
    "x = ['f', 'g', 'h']\n",
    "y = ['i', 'j']\n",
    "x.extend(y)\n",
    "print(x)"
   ]
  },
  {
   "cell_type": "markdown",
   "metadata": {},
   "source": [
    "**POP** pop the last item from the list"
   ]
  },
  {
   "cell_type": "code",
   "execution_count": 9,
   "metadata": {},
   "outputs": [
    {
     "name": "stdout",
     "output_type": "stream",
     "text": [
      "[9, 0, 8]\n",
      "8\n",
      "[9, 0]\n"
     ]
    }
   ],
   "source": [
    "x = [9, 0, 8, 6]\n",
    "x.pop()  # pop 6\n",
    "print(x)\n",
    "print(x.pop()) # pop 8\n",
    "print(x)"
   ]
  },
  {
   "cell_type": "markdown",
   "metadata": {},
   "source": [
    "**REMOVE** remove an instance of a list"
   ]
  },
  {
   "cell_type": "code",
   "execution_count": 10,
   "metadata": {},
   "outputs": [
    {
     "name": "stdout",
     "output_type": "stream",
     "text": [
      "[9, 8, 6]\n"
     ]
    }
   ],
   "source": [
    "x = [9, 0, 8, 6]\n",
    "x.remove(0)\n",
    "print(x)"
   ]
  },
  {
   "cell_type": "markdown",
   "metadata": {},
   "source": [
    "**REVERSE** reverse a list"
   ]
  },
  {
   "cell_type": "code",
   "execution_count": 11,
   "metadata": {},
   "outputs": [
    {
     "name": "stdout",
     "output_type": "stream",
     "text": [
      "[6, 8, 0, 9]\n"
     ]
    }
   ],
   "source": [
    "x = [9, 0, 8, 6]\n",
    "x.reverse()\n",
    "print(x)"
   ]
  },
  {
   "cell_type": "markdown",
   "metadata": {},
   "source": [
    "**SORT** sort a list"
   ]
  },
  {
   "cell_type": "code",
   "execution_count": 13,
   "metadata": {},
   "outputs": [
    {
     "name": "stdout",
     "output_type": "stream",
     "text": [
      "[0, 6, 8, 9]\n",
      "[9, 8, 6, 0]\n"
     ]
    }
   ],
   "source": [
    "x = [9, 0, 8, 6]\n",
    "x.sort()  # normal order\n",
    "print(x)\n",
    "\n",
    "x.sort(reverse=True)  # reversed order\n",
    "print(x)"
   ]
  },
  {
   "cell_type": "markdown",
   "metadata": {},
   "source": [
    "\n",
    "# TUPLES\n"
   ]
  },
  {
   "cell_type": "markdown",
   "metadata": {},
   "source": [
    "**IMMUTABLE, FIXED DATA, FASTER THAN LIST**"
   ]
  },
  {
   "cell_type": "markdown",
   "metadata": {},
   "source": [
    "**CONSTRUCTOR** create new tuples"
   ]
  },
  {
   "cell_type": "code",
   "execution_count": 1,
   "metadata": {},
   "outputs": [
    {
     "name": "stdout",
     "output_type": "stream",
     "text": [
      "(1, 2, 3)\n"
     ]
    }
   ],
   "source": [
    "x = ()\n",
    "x = (1, 2, 3)\n",
    "x = 1, 2, 3\n",
    "print(x)"
   ]
  },
  {
   "cell_type": "markdown",
   "metadata": {},
   "source": [
    "*The tuple are immutable, but member objects may be mutable*"
   ]
  },
  {
   "cell_type": "markdown",
   "metadata": {},
   "source": [
    "**DELETE TUPLE**"
   ]
  },
  {
   "cell_type": "code",
   "execution_count": 7,
   "metadata": {},
   "outputs": [
    {
     "name": "stdout",
     "output_type": "stream",
     "text": [
      "([2], 3)\n",
      "([2], 3, 4)\n"
     ]
    }
   ],
   "source": [
    "x = (1, 2, 3)\n",
    "# del x[2]  # Fails\n",
    "# x[1] = 3  # Fails\n",
    "\n",
    "y = ([1, 2], 3)  # this work\n",
    "del y[0][0]\n",
    "print(y)\n",
    "\n",
    "y += 4,\n",
    "print(y)"
   ]
  },
  {
   "cell_type": "markdown",
   "metadata": {},
   "source": [
    "# SETS #"
   ]
  },
  {
   "cell_type": "markdown",
   "metadata": {},
   "source": [
    "**NO DUPLICATE\n",
    "FAST, \n",
    "CAN USE (INTERSECT, UNION), \n",
    "UNORDERED**"
   ]
  },
  {
   "cell_type": "markdown",
   "metadata": {},
   "source": [
    "**CONSTRUCTOR** - *Creating new sets*"
   ]
  },
  {
   "cell_type": "code",
   "execution_count": null,
   "metadata": {},
   "outputs": [],
   "source": [
    "x = {4,3,5,3,7,4}\n",
    "print(x)\n",
    "\n",
    "y = set()\n",
    "print(y)\n",
    "\n",
    "# Convert list to sets\n",
    "l = [1, 2, 3, 4, 5, 6]\n",
    "s = set(l)\n",
    "print(s)"
   ]
  },
  {
   "cell_type": "markdown",
   "metadata": {},
   "source": [
    "**SETS OPERATION**"
   ]
  },
  {
   "cell_type": "code",
   "execution_count": 28,
   "metadata": {},
   "outputs": [
    {
     "name": "stdout",
     "output_type": "stream",
     "text": [
      "{4, 5, 6, 7, 8, 9}\n",
      "{4, 5, 7, 8, 9}\n",
      "{4, 5, 7, 8, 9}\n",
      "5\n",
      "True\n",
      "4 {5, 7, 8, 9}\n",
      "set()\n"
     ]
    }
   ],
   "source": [
    "# Addition\n",
    "x = {5, 6, 7, 8, 9, 4}\n",
    "x.add(9)\n",
    "print(x)\n",
    "\n",
    "# Remove\n",
    "x.remove(6)\n",
    "print(x)\n",
    "print(x)\n",
    "\n",
    "# Get Len\n",
    "print(len(x))\n",
    "\n",
    "# Check membership\n",
    "print(5 in x)\n",
    "\n",
    "# Pop Random Sets\n",
    "print(x.pop(), x)\n",
    "\n",
    "# Clear Set\n",
    "x.clear()\n",
    "print(x)"
   ]
  },
  {
   "cell_type": "markdown",
   "metadata": {},
   "source": [
    "**MATHEMATICAL SET OPERATIONS**"
   ]
  },
  {
   "cell_type": "markdown",
   "metadata": {},
   "source": [
    "- INTERSECTION (AND) : **s1 & s2**\n",
    "- UNIOR (OR) : **set1 | set2**\n",
    "- SYMETRIC DIFFERENCE (XOR) : **set1 ^ set2**\n",
    "- DIFFERENCE (in s1, butnot s2) : **set1 - set2**\n",
    "- SUBSET (s2 contains s1): **set1 <= set2**\n",
    "- SUPERSET (s1 contains s2): **set1 >= set2**"
   ]
  },
  {
   "cell_type": "code",
   "execution_count": 31,
   "metadata": {},
   "outputs": [
    {
     "name": "stdout",
     "output_type": "stream",
     "text": [
      "{3, 4}\n",
      "{1, 2, 3, 4, 5, 6}\n",
      "{1, 2, 5, 6}\n",
      "{1, 2}\n",
      "False\n",
      "False\n"
     ]
    }
   ],
   "source": [
    "# Sample\n",
    "\n",
    "s1 = {1, 2, 3, 4}\n",
    "s2 = {3, 4, 5, 6}\n",
    "\n",
    "print(s1 & s2)\n",
    "print(s1 | s2)\n",
    "print(s1 ^ s2)\n",
    "print(s1 - s2)\n",
    "print(s1 <= s2)\n",
    "print(s1 >= s2)"
   ]
  },
  {
   "cell_type": "markdown",
   "metadata": {},
   "source": [
    "# DICTIONARIES #"
   ]
  },
  {
   "cell_type": "markdown",
   "metadata": {},
   "source": [
    "**KEY VALUE PAIRS , ASSOC ARRAY **"
   ]
  },
  {
   "cell_type": "code",
   "execution_count": 35,
   "metadata": {},
   "outputs": [
    {
     "name": "stdout",
     "output_type": "stream",
     "text": [
      "{'chicken': 7000, 'potatoes': 2000, 'tofu': 2000, 'beef': 10000}\n",
      "{'chicken': 7000, 'potatoes': 2000, 'tofi': 4000}\n",
      "{'chicken': 7000, 'potato': 5000, 'beef': 12000}\n"
     ]
    }
   ],
   "source": [
    "x = {'chicken': 7000, 'potatoes': 2000, 'tofu': 2000, 'beef': 10000}\n",
    "print(x)\n",
    "\n",
    "x = dict([('chicken', 7000), ('potatoes', 2000), ('tofi', 4000)])\n",
    "print(x)\n",
    "\n",
    "x = dict(chicken=7000, potato=5000, beef=12000)\n",
    "print(x)"
   ]
  },
  {
   "cell_type": "markdown",
   "metadata": {},
   "source": [
    "**DICTIONARY OPERATIONS**"
   ]
  },
  {
   "cell_type": "code",
   "execution_count": 40,
   "metadata": {},
   "outputs": [
    {
     "name": "stdout",
     "output_type": "stream",
     "text": [
      "{'chicken': 7000, 'potato': 5000, 'vegetables': 2500}\n",
      "{'chicken': 7000, 'vegetables': 2500}\n",
      "2\n",
      "{}\n"
     ]
    }
   ],
   "source": [
    "# Add or Update Dict\n",
    "x['vegetables'] = 2500\n",
    "print(x)\n",
    "\n",
    "# Delete\n",
    "del x['beef']\n",
    "del x['potato']\n",
    "print(x)\n",
    "\n",
    "# Get Len\n",
    "print(len(x))\n",
    "\n",
    "# Delete All items\n",
    "x.clear()\n",
    "print(x)\n",
    "\n",
    "# Delete the Dict\n",
    "del x\n"
   ]
  },
  {
   "cell_type": "code",
   "execution_count": 45,
   "metadata": {},
   "outputs": [
    {
     "name": "stdout",
     "output_type": "stream",
     "text": [
      "{'chicken': 9000, 'vegetables': 5000, 'beef': 20000, 'potato': 3000}\n",
      "dict_keys(['chicken', 'vegetables', 'beef', 'potato'])\n",
      "dict_values([9000, 5000, 20000, 3000])\n",
      "dict_items([('chicken', 9000), ('vegetables', 5000), ('beef', 20000), ('potato', 3000)])\n",
      "True\n"
     ]
    }
   ],
   "source": [
    "y = {'chicken' : 9000, 'vegetables' : 5000, 'beef': 20000, 'potato' : 3000}\n",
    "print(y)\n",
    "print(y.keys())\n",
    "print(y.values())\n",
    "print(y.items())\n",
    "\n",
    "print('beef' in y.keys())\n",
    "print('beef' in y.values())"
   ]
  },
  {
   "cell_type": "markdown",
   "metadata": {},
   "source": [
    "**ITERATE DICTIONARY**"
   ]
  },
  {
   "cell_type": "code",
   "execution_count": 46,
   "metadata": {},
   "outputs": [
    {
     "name": "stdout",
     "output_type": "stream",
     "text": [
      "chicken 9000\n",
      "vegetables 5000\n",
      "beef 20000\n",
      "potato 3000\n"
     ]
    }
   ],
   "source": [
    "y = {'chicken' : 9000, 'vegetables' : 5000, 'beef': 20000, 'potato' : 3000}\n",
    "for key in y:\n",
    "    print(key, y[key])"
   ]
  },
  {
   "cell_type": "code",
   "execution_count": 47,
   "metadata": {},
   "outputs": [
    {
     "name": "stdout",
     "output_type": "stream",
     "text": [
      "chicken 9000\n",
      "vegetables 5000\n",
      "beef 20000\n",
      "potato 3000\n"
     ]
    }
   ],
   "source": [
    "y = {'chicken' : 9000, 'vegetables' : 5000, 'beef': 20000, 'potato' : 3000}\n",
    "for key,value in y.items():\n",
    "    print(key, value)"
   ]
  },
  {
   "cell_type": "code",
   "execution_count": null,
   "metadata": {},
   "outputs": [],
   "source": []
  }
 ],
 "metadata": {
  "kernelspec": {
   "display_name": "Python 3",
   "language": "python",
   "name": "python3"
  },
  "language_info": {
   "codemirror_mode": {
    "name": "ipython",
    "version": 3
   },
   "file_extension": ".py",
   "mimetype": "text/x-python",
   "name": "python",
   "nbconvert_exporter": "python",
   "pygments_lexer": "ipython3",
   "version": "3.7.3"
  }
 },
 "nbformat": 4,
 "nbformat_minor": 4
}
