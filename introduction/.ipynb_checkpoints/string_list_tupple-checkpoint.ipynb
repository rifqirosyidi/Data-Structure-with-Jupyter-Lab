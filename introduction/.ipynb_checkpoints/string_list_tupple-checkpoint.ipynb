{
 "cells": [
  {
   "cell_type": "code",
   "execution_count": 1,
   "metadata": {},
   "outputs": [
    {
     "name": "stdout",
     "output_type": "stream",
     "text": [
      "g\n",
      "mouse\n",
      "ian\n"
     ]
    }
   ],
   "source": [
    "# String\n",
    "x = 'frog'\n",
    "print(x[3])\n",
    "\n",
    "# List\n",
    "x = ['cat', 'mouse', 'ant']\n",
    "print(x[1])\n",
    "\n",
    "# Tuple\n",
    "x = ['ian', 'neuron', 'rief']\n",
    "print(x[0])"
   ]
  },
  {
   "cell_type": "markdown",
   "metadata": {},
   "source": [
    "**SLICING**  slice a sting, list or tupple\n",
    "some_str[start:end+1:step]"
   ]
  },
  {
   "cell_type": "code",
   "execution_count": 2,
   "metadata": {},
   "outputs": [
    {
     "name": "stdout",
     "output_type": "stream",
     "text": [
      "omp\n",
      "opt\n",
      "puter\n",
      "compu\n",
      "r\n",
      "ter\n",
      "comput\n"
     ]
    }
   ],
   "source": [
    "x = 'computer'\n",
    "print(x[1:4])\n",
    "print(x[1:6:2])\n",
    "print(x[3:])\n",
    "print(x[:5])\n",
    "print(x[-1])\n",
    "print(x[-3:])\n",
    "print(x[:-2])"
   ]
  },
  {
   "cell_type": "markdown",
   "metadata": {},
   "source": [
    "**CONCATENATE** adding a string, list or tuple"
   ]
  },
  {
   "cell_type": "code",
   "execution_count": 5,
   "metadata": {},
   "outputs": [
    {
     "name": "stdout",
     "output_type": "stream",
     "text": [
      "horseshoe\n",
      "['pig', 'cow', 'horse']\n",
      "('Tuple', 'Cannot be', 'Added')\n"
     ]
    }
   ],
   "source": [
    "# String\n",
    "x = 'horse' + 'shoe'\n",
    "print(x)\n",
    "\n",
    "# List\n",
    "y = ['pig', 'cow'] + ['horse']\n",
    "print(y)\n",
    "\n",
    "# Tuple can be added using extra comma\n",
    "z = ('Tuple', 'Cannot be') + ('Added',)\n",
    "print(z)"
   ]
  },
  {
   "cell_type": "markdown",
   "metadata": {},
   "source": [
    "**MULTIPLYING** multypliying sequence of a string, list or tuple"
   ]
  },
  {
   "cell_type": "code",
   "execution_count": 7,
   "metadata": {},
   "outputs": [
    {
     "name": "stdout",
     "output_type": "stream",
     "text": [
      "testtesttest\n",
      "[8, 5, 8, 5, 8, 5]\n",
      "(2, 4, 2, 4, 2, 4)\n"
     ]
    }
   ],
   "source": [
    "# String\n",
    "x = 'test' * 3\n",
    "print(x)\n",
    "\n",
    "# List\n",
    "y = [8, 5] * 3\n",
    "print(y)\n",
    "\n",
    "# Tuple\n",
    "z = (2, 4) * 3\n",
    "print(z)"
   ]
  },
  {
   "cell_type": "markdown",
   "metadata": {},
   "source": [
    "**MEMBERSHIP** *IN or NOT IN* checking membership of a string, list or tuple"
   ]
  },
  {
   "cell_type": "code",
   "execution_count": 11,
   "metadata": {},
   "outputs": [
    {
     "name": "stdout",
     "output_type": "stream",
     "text": [
      "True\n",
      "True\n",
      "False\n"
     ]
    }
   ],
   "source": [
    "# String\n",
    "x = 'test'\n",
    "print('s' in x)\n",
    "\n",
    "# List\n",
    "y = ['some', 'random', 'list']\n",
    "print('cat' not in y)\n",
    "\n",
    "# Tuple\n",
    "z = ('this', 'is', 'tuple')\n",
    "print('is' not in z)"
   ]
  },
  {
   "cell_type": "markdown",
   "metadata": {},
   "source": [
    "**ITERATION** Iteration in sequence of a string, list or tuple"
   ]
  },
  {
   "cell_type": "code",
   "execution_count": 14,
   "metadata": {},
   "outputs": [
    {
     "name": "stdout",
     "output_type": "stream",
     "text": [
      "3\n",
      "3\n",
      "3\n",
      "0 7\n",
      "1 8\n",
      "2 3\n"
     ]
    }
   ],
   "source": [
    "# Item\n",
    "x = [7, 8, 3] \n",
    "for item in x:\n",
    "    print(i)\n",
    "\n",
    "# Item & Index\n",
    "y = [7, 8, 3]\n",
    "for index, item in enumerate(y):\n",
    "    print(index, item)"
   ]
  },
  {
   "cell_type": "markdown",
   "metadata": {},
   "source": [
    "**LENGTH** Check length in string, list or tuple"
   ]
  },
  {
   "cell_type": "code",
   "execution_count": 16,
   "metadata": {},
   "outputs": [
    {
     "name": "stdout",
     "output_type": "stream",
     "text": [
      "3\n",
      "3\n",
      "3\n"
     ]
    }
   ],
   "source": [
    "# String\n",
    "x = 'bug'\n",
    "print(len(x))\n",
    "\n",
    "# List\n",
    "y = ['cat', 'mouse', 'dragon']\n",
    "print(len(y))\n",
    "\n",
    "# Tuple\n",
    "z = ('Rief', 'Test', 'User')\n",
    "print(len(z))"
   ]
  },
  {
   "cell_type": "markdown",
   "metadata": {},
   "source": [
    "**MINIMUM & MAXIMUM** Check the minimum based on ASCII Scale"
   ]
  },
  {
   "cell_type": "code",
   "execution_count": 19,
   "metadata": {},
   "outputs": [
    {
     "name": "stdout",
     "output_type": "stream",
     "text": [
      "min :  b\n",
      "max :  u\n",
      "min :  find\n",
      "max :  value\n",
      "min :  minimum\n",
      "max :  tuple\n"
     ]
    }
   ],
   "source": [
    "x = 'bug'\n",
    "print('min : ', min(x))\n",
    "print('max : ', max(x))\n",
    "\n",
    "y = ['find', 'the', 'minimum', 'value']\n",
    "print('min : ', min(y))\n",
    "print('max : ', max(y))\n",
    "\n",
    "z = ('tuple', 'minimum')\n",
    "print('min : ', min(z))\n",
    "print('max : ', max(z))"
   ]
  },
  {
   "cell_type": "markdown",
   "metadata": {},
   "source": [
    "**SUM** return sum of a given number"
   ]
  },
  {
   "cell_type": "code",
   "execution_count": 22,
   "metadata": {},
   "outputs": [
    {
     "name": "stdout",
     "output_type": "stream",
     "text": [
      "66\n",
      "34\n",
      "96\n"
     ]
    }
   ],
   "source": [
    "# String\n",
    "# sum a string will give an error\n",
    "# x = [1, 2, 'some_str']  # raise an error\n",
    "\n",
    "# List\n",
    "y = [1, 12, 19, 32, 2]\n",
    "print(sum(y))\n",
    "print(sum(y[-2:]))\n",
    "\n",
    "# Tuple\n",
    "z = (50, 4, 23, 19)\n",
    "print(sum(z))"
   ]
  },
  {
   "cell_type": "markdown",
   "metadata": {},
   "source": [
    "**SORTING** return a new list of sorted value, didnot override the original list"
   ]
  },
  {
   "cell_type": "code",
   "execution_count": null,
   "metadata": {},
   "outputs": [],
   "source": [
    "# String\n",
    "x = 'sort'\n",
    "print(sorted(x))"
   ]
  }
 ],
 "metadata": {
  "kernelspec": {
   "display_name": "Python 3",
   "language": "python",
   "name": "python3"
  },
  "language_info": {
   "codemirror_mode": {
    "name": "ipython",
    "version": 3
   },
   "file_extension": ".py",
   "mimetype": "text/x-python",
   "name": "python",
   "nbconvert_exporter": "python",
   "pygments_lexer": "ipython3",
   "version": "3.7.3"
  }
 },
 "nbformat": 4,
 "nbformat_minor": 4
}
