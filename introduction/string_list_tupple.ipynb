{
 "cells": [
  {
   "cell_type": "code",
   "execution_count": 1,
   "metadata": {},
   "outputs": [
    {
     "name": "stdout",
     "output_type": "stream",
     "text": [
      "g\n",
      "mouse\n",
      "ian\n"
     ]
    }
   ],
   "source": [
    "# String\n",
    "x = 'frog'\n",
    "print(x[3])\n",
    "\n",
    "# List\n",
    "x = ['cat', 'mouse', 'ant']\n",
    "print(x[1])\n",
    "\n",
    "# Tuple\n",
    "x = ['ian', 'neuron', 'rief']\n",
    "print(x[0])"
   ]
  },
  {
   "cell_type": "markdown",
   "metadata": {},
   "source": []
  }
 ],
 "metadata": {
  "kernelspec": {
   "display_name": "Python 3",
   "language": "python",
   "name": "python3"
  },
  "language_info": {
   "codemirror_mode": {
    "name": "ipython",
    "version": 3
   },
   "file_extension": ".py",
   "mimetype": "text/x-python",
   "name": "python",
   "nbconvert_exporter": "python",
   "pygments_lexer": "ipython3",
   "version": "3.7.3"
  }
 },
 "nbformat": 4,
 "nbformat_minor": 4
}
